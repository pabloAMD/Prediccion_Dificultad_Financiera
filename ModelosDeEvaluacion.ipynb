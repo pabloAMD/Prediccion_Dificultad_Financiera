{
  "nbformat": 4,
  "nbformat_minor": 0,
  "metadata": {
    "colab": {
      "name": "ProyectoFinal.ipynb",
      "provenance": [],
      "collapsed_sections": [],
      "toc_visible": true
    },
    "kernelspec": {
      "name": "python3",
      "display_name": "Python 3"
    }
  },
  "cells": [
    {
      "cell_type": "markdown",
      "metadata": {
        "id": "e8UBKySnOjgf",
        "colab_type": "text"
      },
      "source": [
        "# CARGA Y DESCRIPCION DE DATASET"
      ]
    },
    {
      "cell_type": "code",
      "metadata": {
        "id": "HsziNuupOKoD",
        "colab_type": "code",
        "colab": {
          "base_uri": "https://localhost:8080/",
          "height": 269
        },
        "outputId": "90c754c1-9ebf-4e01-a9a1-4cccf74ac9a0"
      },
      "source": [
        "#CARGANDO DATASET\n",
        "#INTEGRANTES: Pablo Malla, Christian Rivera\n",
        "\n",
        "'''\n",
        "UBICACION DEL DATASET\n",
        "Url: https://www.kaggle.com/shebrahimi/financial-distress/data?select=Financial+Distress.csv\n",
        "\n",
        "DESCRIPCIÓN DEL DATASET\n",
        "\n",
        "-Primera columna : la empresa representa empresas de muestra.\n",
        "\n",
        "-Segunda columna : El tiempo muestra diferentes períodos de tiempo a los que pertenecen los datos. \n",
        "La duración de la serie temporal varía entre 1 y 14 para cada empresa.\n",
        "\n",
        "-Tercera columna : La variable objetivo se denota con \" Problemas financieros \" si es mayor que -0.50, \n",
        "la empresa debe considerarse saludable ( 0 ). De lo contrario, se consideraría en dificultades financieras ( 1 ).\n",
        "\n",
        "-Cuarta columna a la última columna : Las características denotadas por x1 a x83 , son algunas características financieras y no financieras de las empresas incluidas en la muestra. \n",
        "\n",
        "OBJETIVO:\n",
        "\n",
        "Predecir si la empresa tendrá problemas financieros (1) o no (0).\n",
        "\n",
        "'''\n",
        "\n",
        "#Importacion de librerias\n",
        "import numpy as np  \n",
        "import pandas as pd \n",
        "\n",
        "df = pd.read_csv('/content/Financial Distress.csv')\n",
        "df.head()"
      ],
      "execution_count": 78,
      "outputs": [
        {
          "output_type": "execute_result",
          "data": {
            "text/html": [
              "<div>\n",
              "<style scoped>\n",
              "    .dataframe tbody tr th:only-of-type {\n",
              "        vertical-align: middle;\n",
              "    }\n",
              "\n",
              "    .dataframe tbody tr th {\n",
              "        vertical-align: top;\n",
              "    }\n",
              "\n",
              "    .dataframe thead th {\n",
              "        text-align: right;\n",
              "    }\n",
              "</style>\n",
              "<table border=\"1\" class=\"dataframe\">\n",
              "  <thead>\n",
              "    <tr style=\"text-align: right;\">\n",
              "      <th></th>\n",
              "      <th>Company</th>\n",
              "      <th>Time</th>\n",
              "      <th>Financial Distress</th>\n",
              "      <th>x1</th>\n",
              "      <th>x2</th>\n",
              "      <th>x3</th>\n",
              "      <th>x4</th>\n",
              "      <th>x5</th>\n",
              "      <th>x6</th>\n",
              "      <th>x7</th>\n",
              "      <th>x8</th>\n",
              "      <th>x9</th>\n",
              "      <th>x10</th>\n",
              "      <th>x11</th>\n",
              "      <th>x12</th>\n",
              "      <th>x13</th>\n",
              "      <th>x14</th>\n",
              "      <th>x15</th>\n",
              "      <th>x16</th>\n",
              "      <th>x17</th>\n",
              "      <th>x18</th>\n",
              "      <th>x19</th>\n",
              "      <th>x20</th>\n",
              "      <th>x21</th>\n",
              "      <th>x22</th>\n",
              "      <th>x23</th>\n",
              "      <th>x24</th>\n",
              "      <th>x25</th>\n",
              "      <th>x26</th>\n",
              "      <th>x27</th>\n",
              "      <th>x28</th>\n",
              "      <th>x29</th>\n",
              "      <th>x30</th>\n",
              "      <th>x31</th>\n",
              "      <th>x32</th>\n",
              "      <th>x33</th>\n",
              "      <th>x34</th>\n",
              "      <th>x35</th>\n",
              "      <th>x36</th>\n",
              "      <th>x37</th>\n",
              "      <th>...</th>\n",
              "      <th>x44</th>\n",
              "      <th>x45</th>\n",
              "      <th>x46</th>\n",
              "      <th>x47</th>\n",
              "      <th>x48</th>\n",
              "      <th>x49</th>\n",
              "      <th>x50</th>\n",
              "      <th>x51</th>\n",
              "      <th>x52</th>\n",
              "      <th>x53</th>\n",
              "      <th>x54</th>\n",
              "      <th>x55</th>\n",
              "      <th>x56</th>\n",
              "      <th>x57</th>\n",
              "      <th>x58</th>\n",
              "      <th>x59</th>\n",
              "      <th>x60</th>\n",
              "      <th>x61</th>\n",
              "      <th>x62</th>\n",
              "      <th>x63</th>\n",
              "      <th>x64</th>\n",
              "      <th>x65</th>\n",
              "      <th>x66</th>\n",
              "      <th>x67</th>\n",
              "      <th>x68</th>\n",
              "      <th>x69</th>\n",
              "      <th>x70</th>\n",
              "      <th>x71</th>\n",
              "      <th>x72</th>\n",
              "      <th>x73</th>\n",
              "      <th>x74</th>\n",
              "      <th>x75</th>\n",
              "      <th>x76</th>\n",
              "      <th>x77</th>\n",
              "      <th>x78</th>\n",
              "      <th>x79</th>\n",
              "      <th>x80</th>\n",
              "      <th>x81</th>\n",
              "      <th>x82</th>\n",
              "      <th>x83</th>\n",
              "    </tr>\n",
              "  </thead>\n",
              "  <tbody>\n",
              "    <tr>\n",
              "      <th>0</th>\n",
              "      <td>1</td>\n",
              "      <td>1</td>\n",
              "      <td>0.010636</td>\n",
              "      <td>1.2810</td>\n",
              "      <td>0.022934</td>\n",
              "      <td>0.87454</td>\n",
              "      <td>1.21640</td>\n",
              "      <td>0.060940</td>\n",
              "      <td>0.188270</td>\n",
              "      <td>0.52510</td>\n",
              "      <td>0.018854</td>\n",
              "      <td>0.182790</td>\n",
              "      <td>0.006449</td>\n",
              "      <td>0.85822</td>\n",
              "      <td>2.00580</td>\n",
              "      <td>0.125460</td>\n",
              "      <td>6.9706</td>\n",
              "      <td>4.6512</td>\n",
              "      <td>0.050100</td>\n",
              "      <td>2.1984</td>\n",
              "      <td>0.018265</td>\n",
              "      <td>0.024978</td>\n",
              "      <td>0.027264</td>\n",
              "      <td>1.41730</td>\n",
              "      <td>9.5554</td>\n",
              "      <td>0.148720</td>\n",
              "      <td>0.66995</td>\n",
              "      <td>214.760</td>\n",
              "      <td>12.641</td>\n",
              "      <td>6.4607</td>\n",
              "      <td>0.043835</td>\n",
              "      <td>0.204590</td>\n",
              "      <td>0.35179</td>\n",
              "      <td>8.3161</td>\n",
              "      <td>0.28922</td>\n",
              "      <td>0.76606</td>\n",
              "      <td>2.5825</td>\n",
              "      <td>77.400</td>\n",
              "      <td>0.026722</td>\n",
              "      <td>1.63070</td>\n",
              "      <td>...</td>\n",
              "      <td>0.180160</td>\n",
              "      <td>1.50060</td>\n",
              "      <td>0.026224</td>\n",
              "      <td>7.0513</td>\n",
              "      <td>1174.90</td>\n",
              "      <td>5.3399</td>\n",
              "      <td>0.85128</td>\n",
              "      <td>12.837</td>\n",
              "      <td>0.061737</td>\n",
              "      <td>0.180900</td>\n",
              "      <td>209.87</td>\n",
              "      <td>-0.582550</td>\n",
              "      <td>0.47101</td>\n",
              "      <td>0.109900</td>\n",
              "      <td>0.000000</td>\n",
              "      <td>0.000000</td>\n",
              "      <td>0.22009</td>\n",
              "      <td>7.1241</td>\n",
              "      <td>15.3810</td>\n",
              "      <td>3.2702</td>\n",
              "      <td>17.8720</td>\n",
              "      <td>34.6920</td>\n",
              "      <td>30.087</td>\n",
              "      <td>12.8</td>\n",
              "      <td>7991.4</td>\n",
              "      <td>364.9500</td>\n",
              "      <td>15.8</td>\n",
              "      <td>61.476</td>\n",
              "      <td>4.0</td>\n",
              "      <td>36.0</td>\n",
              "      <td>85.437</td>\n",
              "      <td>27.07</td>\n",
              "      <td>26.102</td>\n",
              "      <td>16.000</td>\n",
              "      <td>16.0</td>\n",
              "      <td>0.2</td>\n",
              "      <td>22</td>\n",
              "      <td>0.060390</td>\n",
              "      <td>30</td>\n",
              "      <td>49</td>\n",
              "    </tr>\n",
              "    <tr>\n",
              "      <th>1</th>\n",
              "      <td>1</td>\n",
              "      <td>2</td>\n",
              "      <td>-0.455970</td>\n",
              "      <td>1.2700</td>\n",
              "      <td>0.006454</td>\n",
              "      <td>0.82067</td>\n",
              "      <td>1.00490</td>\n",
              "      <td>-0.014080</td>\n",
              "      <td>0.181040</td>\n",
              "      <td>0.62288</td>\n",
              "      <td>0.006423</td>\n",
              "      <td>0.035991</td>\n",
              "      <td>0.001795</td>\n",
              "      <td>0.85152</td>\n",
              "      <td>-0.48644</td>\n",
              "      <td>0.179330</td>\n",
              "      <td>4.5764</td>\n",
              "      <td>3.7521</td>\n",
              "      <td>-0.014011</td>\n",
              "      <td>2.4575</td>\n",
              "      <td>0.027558</td>\n",
              "      <td>0.028804</td>\n",
              "      <td>0.041102</td>\n",
              "      <td>1.18010</td>\n",
              "      <td>7.2952</td>\n",
              "      <td>0.056026</td>\n",
              "      <td>0.67048</td>\n",
              "      <td>38.242</td>\n",
              "      <td>12.877</td>\n",
              "      <td>5.5506</td>\n",
              "      <td>0.265480</td>\n",
              "      <td>0.150190</td>\n",
              "      <td>0.41763</td>\n",
              "      <td>9.5276</td>\n",
              "      <td>0.41561</td>\n",
              "      <td>0.81699</td>\n",
              "      <td>2.6033</td>\n",
              "      <td>95.947</td>\n",
              "      <td>0.007580</td>\n",
              "      <td>0.83754</td>\n",
              "      <td>...</td>\n",
              "      <td>0.046857</td>\n",
              "      <td>1.00950</td>\n",
              "      <td>0.007864</td>\n",
              "      <td>4.6022</td>\n",
              "      <td>1062.50</td>\n",
              "      <td>3.7389</td>\n",
              "      <td>0.94397</td>\n",
              "      <td>12.881</td>\n",
              "      <td>-0.000565</td>\n",
              "      <td>0.056298</td>\n",
              "      <td>250.14</td>\n",
              "      <td>-0.474770</td>\n",
              "      <td>0.38599</td>\n",
              "      <td>0.369330</td>\n",
              "      <td>0.000000</td>\n",
              "      <td>0.000000</td>\n",
              "      <td>0.00000</td>\n",
              "      <td>7.4166</td>\n",
              "      <td>7.1050</td>\n",
              "      <td>14.3210</td>\n",
              "      <td>18.7700</td>\n",
              "      <td>124.7600</td>\n",
              "      <td>26.124</td>\n",
              "      <td>11.8</td>\n",
              "      <td>8322.8</td>\n",
              "      <td>0.1896</td>\n",
              "      <td>15.6</td>\n",
              "      <td>24.579</td>\n",
              "      <td>0.0</td>\n",
              "      <td>36.0</td>\n",
              "      <td>107.090</td>\n",
              "      <td>31.31</td>\n",
              "      <td>30.194</td>\n",
              "      <td>17.000</td>\n",
              "      <td>16.0</td>\n",
              "      <td>0.4</td>\n",
              "      <td>22</td>\n",
              "      <td>0.010636</td>\n",
              "      <td>31</td>\n",
              "      <td>50</td>\n",
              "    </tr>\n",
              "    <tr>\n",
              "      <th>2</th>\n",
              "      <td>1</td>\n",
              "      <td>3</td>\n",
              "      <td>-0.325390</td>\n",
              "      <td>1.0529</td>\n",
              "      <td>-0.059379</td>\n",
              "      <td>0.92242</td>\n",
              "      <td>0.72926</td>\n",
              "      <td>0.020476</td>\n",
              "      <td>0.044865</td>\n",
              "      <td>0.43292</td>\n",
              "      <td>-0.081423</td>\n",
              "      <td>-0.765400</td>\n",
              "      <td>-0.054324</td>\n",
              "      <td>0.89314</td>\n",
              "      <td>0.41220</td>\n",
              "      <td>0.077578</td>\n",
              "      <td>11.8900</td>\n",
              "      <td>2.4884</td>\n",
              "      <td>0.028077</td>\n",
              "      <td>1.3957</td>\n",
              "      <td>0.012595</td>\n",
              "      <td>0.068116</td>\n",
              "      <td>0.014847</td>\n",
              "      <td>0.81652</td>\n",
              "      <td>7.1204</td>\n",
              "      <td>0.065220</td>\n",
              "      <td>0.84827</td>\n",
              "      <td>-498.390</td>\n",
              "      <td>13.225</td>\n",
              "      <td>16.2540</td>\n",
              "      <td>0.416570</td>\n",
              "      <td>0.074149</td>\n",
              "      <td>0.36723</td>\n",
              "      <td>9.3513</td>\n",
              "      <td>0.50356</td>\n",
              "      <td>0.91962</td>\n",
              "      <td>1.4931</td>\n",
              "      <td>144.670</td>\n",
              "      <td>-0.066483</td>\n",
              "      <td>0.95579</td>\n",
              "      <td>...</td>\n",
              "      <td>-0.579760</td>\n",
              "      <td>0.57832</td>\n",
              "      <td>-0.064373</td>\n",
              "      <td>11.9880</td>\n",
              "      <td>651.15</td>\n",
              "      <td>10.9340</td>\n",
              "      <td>0.93478</td>\n",
              "      <td>12.909</td>\n",
              "      <td>0.041625</td>\n",
              "      <td>0.047562</td>\n",
              "      <td>280.55</td>\n",
              "      <td>-1.000000</td>\n",
              "      <td>0.48844</td>\n",
              "      <td>0.053299</td>\n",
              "      <td>0.003785</td>\n",
              "      <td>0.005191</td>\n",
              "      <td>0.00000</td>\n",
              "      <td>3.6373</td>\n",
              "      <td>7.0213</td>\n",
              "      <td>1.1538</td>\n",
              "      <td>9.8951</td>\n",
              "      <td>6.4467</td>\n",
              "      <td>30.245</td>\n",
              "      <td>10.3</td>\n",
              "      <td>8747.0</td>\n",
              "      <td>11.9460</td>\n",
              "      <td>15.2</td>\n",
              "      <td>20.700</td>\n",
              "      <td>0.0</td>\n",
              "      <td>35.0</td>\n",
              "      <td>120.870</td>\n",
              "      <td>36.07</td>\n",
              "      <td>35.273</td>\n",
              "      <td>17.000</td>\n",
              "      <td>15.0</td>\n",
              "      <td>-0.2</td>\n",
              "      <td>22</td>\n",
              "      <td>-0.455970</td>\n",
              "      <td>32</td>\n",
              "      <td>51</td>\n",
              "    </tr>\n",
              "    <tr>\n",
              "      <th>3</th>\n",
              "      <td>1</td>\n",
              "      <td>4</td>\n",
              "      <td>-0.566570</td>\n",
              "      <td>1.1131</td>\n",
              "      <td>-0.015229</td>\n",
              "      <td>0.85888</td>\n",
              "      <td>0.80974</td>\n",
              "      <td>0.076037</td>\n",
              "      <td>0.091033</td>\n",
              "      <td>0.67546</td>\n",
              "      <td>-0.018807</td>\n",
              "      <td>-0.107910</td>\n",
              "      <td>-0.065316</td>\n",
              "      <td>0.89581</td>\n",
              "      <td>0.99490</td>\n",
              "      <td>0.141120</td>\n",
              "      <td>6.0862</td>\n",
              "      <td>1.6382</td>\n",
              "      <td>0.093904</td>\n",
              "      <td>2.0588</td>\n",
              "      <td>0.011601</td>\n",
              "      <td>0.094385</td>\n",
              "      <td>0.014415</td>\n",
              "      <td>0.90391</td>\n",
              "      <td>7.9828</td>\n",
              "      <td>0.125160</td>\n",
              "      <td>0.80478</td>\n",
              "      <td>-75.867</td>\n",
              "      <td>13.305</td>\n",
              "      <td>8.8950</td>\n",
              "      <td>0.083774</td>\n",
              "      <td>0.054098</td>\n",
              "      <td>0.54360</td>\n",
              "      <td>7.0909</td>\n",
              "      <td>0.67133</td>\n",
              "      <td>0.93701</td>\n",
              "      <td>2.3533</td>\n",
              "      <td>219.750</td>\n",
              "      <td>-0.017000</td>\n",
              "      <td>0.38335</td>\n",
              "      <td>...</td>\n",
              "      <td>-0.150130</td>\n",
              "      <td>0.64508</td>\n",
              "      <td>-0.017731</td>\n",
              "      <td>6.1114</td>\n",
              "      <td>703.04</td>\n",
              "      <td>5.7028</td>\n",
              "      <td>0.87484</td>\n",
              "      <td>13.094</td>\n",
              "      <td>0.108400</td>\n",
              "      <td>0.101350</td>\n",
              "      <td>413.74</td>\n",
              "      <td>0.565000</td>\n",
              "      <td>0.34408</td>\n",
              "      <td>0.073356</td>\n",
              "      <td>0.000037</td>\n",
              "      <td>0.000045</td>\n",
              "      <td>0.00000</td>\n",
              "      <td>5.1442</td>\n",
              "      <td>9.9099</td>\n",
              "      <td>2.0408</td>\n",
              "      <td>-1.4903</td>\n",
              "      <td>-21.9070</td>\n",
              "      <td>34.285</td>\n",
              "      <td>11.5</td>\n",
              "      <td>9042.5</td>\n",
              "      <td>-18.7480</td>\n",
              "      <td>10.4</td>\n",
              "      <td>47.429</td>\n",
              "      <td>4.0</td>\n",
              "      <td>33.0</td>\n",
              "      <td>54.806</td>\n",
              "      <td>39.80</td>\n",
              "      <td>38.377</td>\n",
              "      <td>17.167</td>\n",
              "      <td>16.0</td>\n",
              "      <td>5.6</td>\n",
              "      <td>22</td>\n",
              "      <td>-0.325390</td>\n",
              "      <td>33</td>\n",
              "      <td>52</td>\n",
              "    </tr>\n",
              "    <tr>\n",
              "      <th>4</th>\n",
              "      <td>2</td>\n",
              "      <td>1</td>\n",
              "      <td>1.357300</td>\n",
              "      <td>1.0623</td>\n",
              "      <td>0.107020</td>\n",
              "      <td>0.81460</td>\n",
              "      <td>0.83593</td>\n",
              "      <td>0.199960</td>\n",
              "      <td>0.047800</td>\n",
              "      <td>0.74200</td>\n",
              "      <td>0.128030</td>\n",
              "      <td>0.577250</td>\n",
              "      <td>0.094075</td>\n",
              "      <td>0.81549</td>\n",
              "      <td>3.01470</td>\n",
              "      <td>0.185400</td>\n",
              "      <td>4.3938</td>\n",
              "      <td>1.6169</td>\n",
              "      <td>0.239210</td>\n",
              "      <td>3.0311</td>\n",
              "      <td>0.006814</td>\n",
              "      <td>0.079346</td>\n",
              "      <td>0.008876</td>\n",
              "      <td>1.02510</td>\n",
              "      <td>4.7463</td>\n",
              "      <td>0.266020</td>\n",
              "      <td>0.76770</td>\n",
              "      <td>1423.100</td>\n",
              "      <td>11.575</td>\n",
              "      <td>17.4880</td>\n",
              "      <td>0.620770</td>\n",
              "      <td>0.046907</td>\n",
              "      <td>0.56963</td>\n",
              "      <td>9.4861</td>\n",
              "      <td>0.68143</td>\n",
              "      <td>0.94242</td>\n",
              "      <td>4.1296</td>\n",
              "      <td>222.650</td>\n",
              "      <td>0.131230</td>\n",
              "      <td>0.25301</td>\n",
              "      <td>...</td>\n",
              "      <td>0.607660</td>\n",
              "      <td>0.25782</td>\n",
              "      <td>0.131380</td>\n",
              "      <td>4.4151</td>\n",
              "      <td>2465.40</td>\n",
              "      <td>4.1408</td>\n",
              "      <td>0.73398</td>\n",
              "      <td>11.396</td>\n",
              "      <td>0.250310</td>\n",
              "      <td>0.222370</td>\n",
              "      <td>315.34</td>\n",
              "      <td>-0.060101</td>\n",
              "      <td>0.20242</td>\n",
              "      <td>1.229100</td>\n",
              "      <td>-0.002491</td>\n",
              "      <td>-0.002980</td>\n",
              "      <td>0.22688</td>\n",
              "      <td>7.1241</td>\n",
              "      <td>15.3810</td>\n",
              "      <td>3.2702</td>\n",
              "      <td>17.8720</td>\n",
              "      <td>34.6920</td>\n",
              "      <td>30.087</td>\n",
              "      <td>12.8</td>\n",
              "      <td>7991.4</td>\n",
              "      <td>364.9500</td>\n",
              "      <td>15.8</td>\n",
              "      <td>61.476</td>\n",
              "      <td>4.0</td>\n",
              "      <td>36.0</td>\n",
              "      <td>85.437</td>\n",
              "      <td>27.07</td>\n",
              "      <td>26.102</td>\n",
              "      <td>16.000</td>\n",
              "      <td>16.0</td>\n",
              "      <td>0.2</td>\n",
              "      <td>29</td>\n",
              "      <td>1.251000</td>\n",
              "      <td>7</td>\n",
              "      <td>27</td>\n",
              "    </tr>\n",
              "  </tbody>\n",
              "</table>\n",
              "<p>5 rows × 86 columns</p>\n",
              "</div>"
            ],
            "text/plain": [
              "   Company  Time  Financial Distress      x1  ...  x80       x81  x82  x83\n",
              "0        1     1            0.010636  1.2810  ...   22  0.060390   30   49\n",
              "1        1     2           -0.455970  1.2700  ...   22  0.010636   31   50\n",
              "2        1     3           -0.325390  1.0529  ...   22 -0.455970   32   51\n",
              "3        1     4           -0.566570  1.1131  ...   22 -0.325390   33   52\n",
              "4        2     1            1.357300  1.0623  ...   29  1.251000    7   27\n",
              "\n",
              "[5 rows x 86 columns]"
            ]
          },
          "metadata": {
            "tags": []
          },
          "execution_count": 78
        }
      ]
    },
    {
      "cell_type": "markdown",
      "metadata": {
        "id": "H0w-lLWtQoYY",
        "colab_type": "text"
      },
      "source": [
        "### Separación de 'x' y 'y' para realizar los entrenamientos"
      ]
    },
    {
      "cell_type": "code",
      "metadata": {
        "id": "e9U7cdtDXMrL",
        "colab_type": "code",
        "colab": {
          "base_uri": "https://localhost:8080/",
          "height": 35
        },
        "outputId": "4fc7d713-72d6-4cf7-87be-11a77badb48e"
      },
      "source": [
        "\n",
        "from sklearn.preprocessing import StandardScaler\n",
        "# Separating out the target\n",
        "y = df.loc[:,'Financial Distress'].values\n",
        "\n",
        "# Separating out the features\n",
        "s=df.iloc[:, 3:] # Primeras cinco columnasxx\n",
        "s1=df.iloc[:, [0,1]]  # Primera, tercera y segunda columnas\n",
        "\n",
        "X=pd.concat([s1, s], axis=1).values # Matriz con todos los features\n",
        "X = StandardScaler().fit_transform(X)\n",
        "\n",
        "\n",
        "from sklearn import preprocessing\n",
        "y=np.reshape(y,(-1,1))\n",
        "\n",
        "for i in range(len(y)):\n",
        "  \n",
        "  if y[i]<=-0.5:\n",
        "    y[i]=1\n",
        "  else:\n",
        "    y[i]=0\n",
        "\n",
        "len(y)\n",
        "\n"
      ],
      "execution_count": 79,
      "outputs": [
        {
          "output_type": "execute_result",
          "data": {
            "text/plain": [
              "3672"
            ]
          },
          "metadata": {
            "tags": []
          },
          "execution_count": 79
        }
      ]
    },
    {
      "cell_type": "markdown",
      "metadata": {
        "id": "EpbDj6fMP4_R",
        "colab_type": "text"
      },
      "source": [
        "### Splitting dataset en conjunto de training y conjunto de Test"
      ]
    },
    {
      "cell_type": "code",
      "metadata": {
        "id": "jex35UFoDkUM",
        "colab_type": "code",
        "colab": {
          "base_uri": "https://localhost:8080/",
          "height": 35
        },
        "outputId": "db2248b7-407e-4e4d-e05b-cf1b383559dd"
      },
      "source": [
        "from sklearn.model_selection import train_test_split\n",
        "\n",
        "X_train, X_test, y_train, y_test = train_test_split(X, y, test_size=0.2, random_state=0) \n",
        "print(len(X_test))"
      ],
      "execution_count": 80,
      "outputs": [
        {
          "output_type": "stream",
          "text": [
            "735\n"
          ],
          "name": "stdout"
        }
      ]
    },
    {
      "cell_type": "markdown",
      "metadata": {
        "id": "m41XVzd9Q4zr",
        "colab_type": "text"
      },
      "source": [
        "### Transformación mediante estandarización de datos"
      ]
    },
    {
      "cell_type": "code",
      "metadata": {
        "id": "xQWwphyoDuMJ",
        "colab_type": "code",
        "colab": {
          "base_uri": "https://localhost:8080/",
          "height": 35
        },
        "outputId": "749f9a9b-a9d9-462a-9323-d79a756ef5ea"
      },
      "source": [
        "\n",
        "from sklearn.preprocessing import StandardScaler\n",
        "\n",
        "sc = StandardScaler()  \n",
        "X_train1 = sc.fit_transform(X_train)  \n",
        "X_test2 = sc.transform(X_test)  \n",
        "print(len(X_test2))"
      ],
      "execution_count": 81,
      "outputs": [
        {
          "output_type": "stream",
          "text": [
            "735\n"
          ],
          "name": "stdout"
        }
      ]
    },
    {
      "cell_type": "markdown",
      "metadata": {
        "id": "l4WT0fs3QE6t",
        "colab_type": "text"
      },
      "source": [
        "# APLICACION DE PCA PARA IDENTIFICAR COMPONENTES PRINCIPALES"
      ]
    },
    {
      "cell_type": "code",
      "metadata": {
        "id": "WezLA_oRi3Mg",
        "colab_type": "code",
        "colab": {
          "base_uri": "https://localhost:8080/",
          "height": 121
        },
        "outputId": "ee5cfb2b-d09b-42d2-e09d-9f06bec532a7"
      },
      "source": [
        "from sklearn.decomposition import PCA\n",
        "import time\n",
        "#Inicia el control de tiempo de ejecucion\n",
        "start = time.time()\n",
        "\n",
        "#Se utilizan todos los componentes\n",
        "#pca = PCA()  \n",
        "\n",
        "#Se utilizan los componentes identificados\n",
        "pca = PCA(n_components=25)  \n",
        "\n",
        "X_train = pca.fit_transform(X_train1)  \n",
        "X_test = pca.transform(X_test2) \n",
        "explained_variance = pca.explained_variance_ratio_  \n",
        "print((explained_variance))\n",
        "print('Tiempo de ejecucion',time.time() - start)\n"
      ],
      "execution_count": 82,
      "outputs": [
        {
          "output_type": "stream",
          "text": [
            "[0.12461132 0.08991947 0.06091472 0.05927358 0.04386341 0.04276587\n",
            " 0.03877423 0.03226319 0.0278533  0.02615771 0.02580322 0.02527043\n",
            " 0.02284307 0.02211995 0.02142135 0.019396   0.01772281 0.01619836\n",
            " 0.01548073 0.01417238 0.01342269 0.01310704 0.01244369 0.01223222\n",
            " 0.01173094]\n",
            "Tiempo de ejecucion 0.0322268009185791\n"
          ],
          "name": "stdout"
        }
      ]
    },
    {
      "cell_type": "markdown",
      "metadata": {
        "id": "a7df9cvhRY5J",
        "colab_type": "text"
      },
      "source": [
        "### Gráfica de la varianza "
      ]
    },
    {
      "cell_type": "code",
      "metadata": {
        "id": "Bad26wRgxx81",
        "colab_type": "code",
        "colab": {
          "base_uri": "https://localhost:8080/",
          "height": 472
        },
        "outputId": "67f227e3-2c14-4bf9-8a83-81c5ede332e1"
      },
      "source": [
        "explained_variance\n",
        "num_pc= range(25);\n",
        "\n",
        "#Visualize 2D Projection\n",
        "import matplotlib.pyplot as plt\n",
        "\n",
        "#plt.plot(num_pc, explained_variance)\n",
        "plt.style.use('default')\n",
        "plt.plot(num_pc, explained_variance, color='blue', linestyle='dashed', linewidth = 3, \n",
        "         marker='o', markerfacecolor='blue', markersize=12)\n",
        "plt.title('Analysis #PC')\n",
        "plt.xlabel('#Principal Components')\n",
        "plt.ylabel('Variance')\n",
        "\n",
        "plt.show()"
      ],
      "execution_count": 87,
      "outputs": [
        {
          "output_type": "display_data",
          "data": {
            "image/png": "[encoded data removed]",
            "text/plain": [
              "<Figure size 640x480 with 1 Axes>"
            ]
          },
          "metadata": {
            "tags": []
          }
        }
      ]
    },
    {
      "cell_type": "code",
      "metadata": {
        "id": "CqtzbXJl1Les",
        "colab_type": "code",
        "colab": {
          "base_uri": "https://localhost:8080/",
          "height": 72
        },
        "outputId": "dda02060-6811-46ab-ca6e-787285a3b891"
      },
      "source": [
        "#Training and Making Predictions\n",
        "#In this case we'll use random forest classification for making the predictions.\n",
        "from sklearn.ensemble import RandomForestClassifier\n",
        "\n",
        "classifier = RandomForestClassifier(max_depth=2, random_state=0)  \n",
        "classifier.fit(X_train, y_train)\n",
        "\n",
        "# Predicting the Test set results\n",
        "y_pred = classifier.predict(X_test) "
      ],
      "execution_count": 88,
      "outputs": [
        {
          "output_type": "stream",
          "text": [
            "/usr/local/lib/python3.6/dist-packages/ipykernel_launcher.py:6: DataConversionWarning: A column-vector y was passed when a 1d array was expected. Please change the shape of y to (n_samples,), for example using ravel().\n",
            "  \n"
          ],
          "name": "stderr"
        }
      ]
    },
    {
      "cell_type": "markdown",
      "metadata": {
        "id": "BSnjnxEqNe7v",
        "colab_type": "text"
      },
      "source": [
        "### Resultado Aplicacion PCA"
      ]
    },
    {
      "cell_type": "code",
      "metadata": {
        "id": "DqqOfnx4xe0-",
        "colab_type": "code",
        "colab": {
          "base_uri": "https://localhost:8080/",
          "height": 69
        },
        "outputId": "8d9084bf-3381-40f1-a8ef-caf07019ef46"
      },
      "source": [
        "#EVALUACION\n",
        "from sklearn.metrics import confusion_matrix  \n",
        "from sklearn.metrics import accuracy_score\n",
        "\n",
        "cm = confusion_matrix(y_test, y_pred)  \n",
        "print(cm)  \n",
        "print('accuracy: ' + str(accuracy_score(y_test, y_pred)))  "
      ],
      "execution_count": 89,
      "outputs": [
        {
          "output_type": "stream",
          "text": [
            "[[705   0]\n",
            " [ 30   0]]\n",
            "accuracy: 0.9591836734693877\n"
          ],
          "name": "stdout"
        }
      ]
    },
    {
      "cell_type": "markdown",
      "metadata": {
        "id": "sapLoFvy-5pv",
        "colab_type": "text"
      },
      "source": [
        "# RED NEURONAL (NN) \n"
      ]
    },
    {
      "cell_type": "code",
      "metadata": {
        "id": "cWH3nwF6EInK",
        "colab_type": "code",
        "colab": {
          "base_uri": "https://localhost:8080/",
          "height": 35
        },
        "outputId": "ac8e6cde-e778-41f9-8091-018a66af80b9"
      },
      "source": [
        "#Importación de librerías\n",
        "import matplotlib.pyplot as plt\n",
        "import numpy as np\n",
        "import pandas as pd\n",
        "from sklearn.model_selection import train_test_split\n",
        "from sklearn.model_selection import cross_val_score\n",
        "from sklearn.model_selection import KFold\n",
        "from sklearn.pipeline import Pipeline\n",
        "from sklearn.preprocessing import MinMaxScaler\n",
        "from tensorflow.python.keras.models import Sequential\n",
        "from tensorflow.python.keras.layers import Dense\n",
        "from tensorflow.python.keras.wrappers.scikit_learn import KerasRegressor\n",
        "print('importadas')"
      ],
      "execution_count": 90,
      "outputs": [
        {
          "output_type": "stream",
          "text": [
            "importadas\n"
          ],
          "name": "stdout"
        }
      ]
    },
    {
      "cell_type": "markdown",
      "metadata": {
        "id": "wGQK2r9CRliF",
        "colab_type": "text"
      },
      "source": [
        "### Normalización"
      ]
    },
    {
      "cell_type": "code",
      "metadata": {
        "id": "fMSTZ6XS5xKX",
        "colab_type": "code",
        "colab": {
          "base_uri": "https://localhost:8080/",
          "height": 52
        },
        "outputId": "1a743e40-9b1b-4bd1-f793-8fdfad7de658"
      },
      "source": [
        "scaler_x = MinMaxScaler()\n",
        "scaler_y = MinMaxScaler()\n",
        "print(scaler_x.fit(X))\n",
        "xscale=scaler_x.transform(X)\n",
        "print(scaler_y.fit(y))\n",
        "yscale=scaler_y.transform(y)"
      ],
      "execution_count": 91,
      "outputs": [
        {
          "output_type": "stream",
          "text": [
            "MinMaxScaler(copy=True, feature_range=(0, 1))\n",
            "MinMaxScaler(copy=True, feature_range=(0, 1))\n"
          ],
          "name": "stdout"
        }
      ]
    },
    {
      "cell_type": "markdown",
      "metadata": {
        "id": "9biXcahrRzDC",
        "colab_type": "text"
      },
      "source": [
        "### Split en train y test."
      ]
    },
    {
      "cell_type": "code",
      "metadata": {
        "id": "MT8YFR6G489N",
        "colab_type": "code",
        "colab": {}
      },
      "source": [
        "X_train, X_test, y_train, y_test = train_test_split(xscale, yscale)"
      ],
      "execution_count": 92,
      "outputs": []
    },
    {
      "cell_type": "markdown",
      "metadata": {
        "id": "cZS1wP4aR2KY",
        "colab_type": "text"
      },
      "source": [
        "### Construcción del modelo de la arquitectura de la red neuronal"
      ]
    },
    {
      "cell_type": "code",
      "metadata": {
        "id": "QjR357KuIo0V",
        "colab_type": "code",
        "colab": {
          "base_uri": "https://localhost:8080/",
          "height": 295
        },
        "outputId": "4cd1cdf4-fa79-4ab8-869f-9b94c97e110f"
      },
      "source": [
        "model = Sequential()\n",
        "model.add(Dense(16, input_dim=85, kernel_initializer='normal', activation='sigmoid'))\n",
        "model.add(Dense(10, activation='sigmoid'))\n",
        "model.add(Dense(20, activation='sigmoid'))\n",
        "model.add(Dense(1, activation='linear'))\n",
        "model.summary()"
      ],
      "execution_count": 93,
      "outputs": [
        {
          "output_type": "stream",
          "text": [
            "Model: \"sequential_2\"\n",
            "_________________________________________________________________\n",
            "Layer (type)                 Output Shape              Param #   \n",
            "=================================================================\n",
            "dense_8 (Dense)              (None, 16)                1376      \n",
            "_________________________________________________________________\n",
            "dense_9 (Dense)              (None, 10)                170       \n",
            "_________________________________________________________________\n",
            "dense_10 (Dense)             (None, 20)                220       \n",
            "_________________________________________________________________\n",
            "dense_11 (Dense)             (None, 1)                 21        \n",
            "=================================================================\n",
            "Total params: 1,787\n",
            "Trainable params: 1,787\n",
            "Non-trainable params: 0\n",
            "_________________________________________________________________\n"
          ],
          "name": "stdout"
        }
      ]
    },
    {
      "cell_type": "code",
      "metadata": {
        "id": "ISkY0uiJ6BMp",
        "colab_type": "code",
        "colab": {}
      },
      "source": [
        "# Las funciones de costo o pérdida son: mean_squared_error (mse) y mean_absolute_error (mae)\n",
        "model.compile(loss='mse', optimizer='adam', metrics=['mse','mae'])"
      ],
      "execution_count": 94,
      "outputs": []
    },
    {
      "cell_type": "markdown",
      "metadata": {
        "id": "UTzjTVfPSRoX",
        "colab_type": "text"
      },
      "source": [
        "### Training y Validation"
      ]
    },
    {
      "cell_type": "code",
      "metadata": {
        "id": "_BlxliOA6Htm",
        "colab_type": "code",
        "colab": {
          "base_uri": "https://localhost:8080/",
          "height": 1000
        },
        "outputId": "80e927df-fd43-45c9-d2c9-caa2957f5d20"
      },
      "source": [
        "#50 epochs: 50 pasos de forward y backward\n",
        "#Se muestra: training loss y validation loss\n",
        "history = model.fit(X_train, y_train, epochs=50, batch_size=8,  verbose=1, validation_split=0.2)"
      ],
      "execution_count": 95,
      "outputs": [
        {
          "output_type": "stream",
          "text": [
            "Epoch 1/50\n",
            "276/276 [==============================] - 1s 3ms/step - loss: 0.0372 - mse: 0.0372 - mae: 0.0767 - val_loss: 0.0348 - val_mse: 0.0348 - val_mae: 0.0659\n",
            "Epoch 2/50\n",
            "276/276 [==============================] - 0s 2ms/step - loss: 0.0353 - mse: 0.0353 - mae: 0.0698 - val_loss: 0.0358 - val_mse: 0.0358 - val_mae: 0.1050\n",
            "Epoch 3/50\n",
            "276/276 [==============================] - 0s 2ms/step - loss: 0.0349 - mse: 0.0349 - mae: 0.0711 - val_loss: 0.0339 - val_mse: 0.0339 - val_mae: 0.0557\n",
            "Epoch 4/50\n",
            "276/276 [==============================] - 0s 2ms/step - loss: 0.0347 - mse: 0.0347 - mae: 0.0713 - val_loss: 0.0332 - val_mse: 0.0332 - val_mae: 0.0803\n",
            "Epoch 5/50\n",
            "276/276 [==============================] - 0s 2ms/step - loss: 0.0338 - mse: 0.0338 - mae: 0.0721 - val_loss: 0.0324 - val_mse: 0.0324 - val_mae: 0.0818\n",
            "Epoch 6/50\n",
            "276/276 [==============================] - 0s 2ms/step - loss: 0.0328 - mse: 0.0328 - mae: 0.0762 - val_loss: 0.0320 - val_mse: 0.0320 - val_mae: 0.0617\n",
            "Epoch 7/50\n",
            "276/276 [==============================] - 0s 2ms/step - loss: 0.0322 - mse: 0.0322 - mae: 0.0758 - val_loss: 0.0308 - val_mse: 0.0308 - val_mae: 0.0690\n",
            "Epoch 8/50\n",
            "276/276 [==============================] - 0s 2ms/step - loss: 0.0317 - mse: 0.0317 - mae: 0.0770 - val_loss: 0.0303 - val_mse: 0.0303 - val_mae: 0.0690\n",
            "Epoch 9/50\n",
            "276/276 [==============================] - 0s 2ms/step - loss: 0.0312 - mse: 0.0312 - mae: 0.0792 - val_loss: 0.0309 - val_mse: 0.0309 - val_mae: 0.0657\n",
            "Epoch 10/50\n",
            "276/276 [==============================] - 0s 2ms/step - loss: 0.0307 - mse: 0.0307 - mae: 0.0785 - val_loss: 0.0296 - val_mse: 0.0296 - val_mae: 0.0710\n",
            "Epoch 11/50\n",
            "276/276 [==============================] - 0s 2ms/step - loss: 0.0305 - mse: 0.0305 - mae: 0.0780 - val_loss: 0.0307 - val_mse: 0.0307 - val_mae: 0.0974\n",
            "Epoch 12/50\n",
            "276/276 [==============================] - 1s 2ms/step - loss: 0.0306 - mse: 0.0306 - mae: 0.0815 - val_loss: 0.0290 - val_mse: 0.0290 - val_mae: 0.0722\n",
            "Epoch 13/50\n",
            "276/276 [==============================] - 0s 2ms/step - loss: 0.0305 - mse: 0.0305 - mae: 0.0817 - val_loss: 0.0290 - val_mse: 0.0290 - val_mae: 0.0688\n",
            "Epoch 14/50\n",
            "276/276 [==============================] - 1s 2ms/step - loss: 0.0303 - mse: 0.0303 - mae: 0.0795 - val_loss: 0.0301 - val_mse: 0.0301 - val_mae: 0.0746\n",
            "Epoch 15/50\n",
            "276/276 [==============================] - 0s 2ms/step - loss: 0.0298 - mse: 0.0298 - mae: 0.0808 - val_loss: 0.0286 - val_mse: 0.0286 - val_mae: 0.0673\n",
            "Epoch 16/50\n",
            "276/276 [==============================] - 0s 2ms/step - loss: 0.0300 - mse: 0.0300 - mae: 0.0794 - val_loss: 0.0295 - val_mse: 0.0295 - val_mae: 0.0691\n",
            "Epoch 17/50\n",
            "276/276 [==============================] - 0s 2ms/step - loss: 0.0298 - mse: 0.0298 - mae: 0.0785 - val_loss: 0.0286 - val_mse: 0.0286 - val_mae: 0.0673\n",
            "Epoch 18/50\n",
            "276/276 [==============================] - 0s 2ms/step - loss: 0.0293 - mse: 0.0293 - mae: 0.0775 - val_loss: 0.0292 - val_mse: 0.0292 - val_mae: 0.0684\n",
            "Epoch 19/50\n",
            "276/276 [==============================] - 0s 2ms/step - loss: 0.0292 - mse: 0.0292 - mae: 0.0773 - val_loss: 0.0284 - val_mse: 0.0284 - val_mae: 0.0825\n",
            "Epoch 20/50\n",
            "276/276 [==============================] - 0s 2ms/step - loss: 0.0292 - mse: 0.0292 - mae: 0.0794 - val_loss: 0.0284 - val_mse: 0.0284 - val_mae: 0.0648\n",
            "Epoch 21/50\n",
            "276/276 [==============================] - 0s 2ms/step - loss: 0.0294 - mse: 0.0294 - mae: 0.0766 - val_loss: 0.0277 - val_mse: 0.0277 - val_mae: 0.0728\n",
            "Epoch 22/50\n",
            "276/276 [==============================] - 0s 2ms/step - loss: 0.0290 - mse: 0.0290 - mae: 0.0786 - val_loss: 0.0280 - val_mse: 0.0280 - val_mae: 0.0666\n",
            "Epoch 23/50\n",
            "276/276 [==============================] - 0s 2ms/step - loss: 0.0289 - mse: 0.0289 - mae: 0.0782 - val_loss: 0.0280 - val_mse: 0.0280 - val_mae: 0.0754\n",
            "Epoch 24/50\n",
            "276/276 [==============================] - 0s 2ms/step - loss: 0.0289 - mse: 0.0289 - mae: 0.0768 - val_loss: 0.0275 - val_mse: 0.0275 - val_mae: 0.0698\n",
            "Epoch 25/50\n",
            "276/276 [==============================] - 0s 2ms/step - loss: 0.0284 - mse: 0.0284 - mae: 0.0755 - val_loss: 0.0275 - val_mse: 0.0275 - val_mae: 0.0788\n",
            "Epoch 26/50\n",
            "276/276 [==============================] - 0s 2ms/step - loss: 0.0287 - mse: 0.0287 - mae: 0.0795 - val_loss: 0.0277 - val_mse: 0.0277 - val_mae: 0.0632\n",
            "Epoch 27/50\n",
            "276/276 [==============================] - 0s 2ms/step - loss: 0.0285 - mse: 0.0285 - mae: 0.0755 - val_loss: 0.0274 - val_mse: 0.0274 - val_mae: 0.0692\n",
            "Epoch 28/50\n",
            "276/276 [==============================] - 0s 2ms/step - loss: 0.0287 - mse: 0.0287 - mae: 0.0791 - val_loss: 0.0282 - val_mse: 0.0282 - val_mae: 0.0625\n",
            "Epoch 29/50\n",
            "276/276 [==============================] - 0s 2ms/step - loss: 0.0283 - mse: 0.0283 - mae: 0.0765 - val_loss: 0.0282 - val_mse: 0.0282 - val_mae: 0.0649\n",
            "Epoch 30/50\n",
            "276/276 [==============================] - 0s 2ms/step - loss: 0.0283 - mse: 0.0283 - mae: 0.0767 - val_loss: 0.0294 - val_mse: 0.0294 - val_mae: 0.0791\n",
            "Epoch 31/50\n",
            "276/276 [==============================] - 0s 2ms/step - loss: 0.0279 - mse: 0.0279 - mae: 0.0755 - val_loss: 0.0276 - val_mse: 0.0276 - val_mae: 0.0619\n",
            "Epoch 32/50\n",
            "276/276 [==============================] - 0s 2ms/step - loss: 0.0282 - mse: 0.0282 - mae: 0.0755 - val_loss: 0.0297 - val_mse: 0.0297 - val_mae: 0.1033\n",
            "Epoch 33/50\n",
            "276/276 [==============================] - 0s 2ms/step - loss: 0.0278 - mse: 0.0278 - mae: 0.0747 - val_loss: 0.0273 - val_mse: 0.0273 - val_mae: 0.0633\n",
            "Epoch 34/50\n",
            "276/276 [==============================] - 0s 2ms/step - loss: 0.0278 - mse: 0.0278 - mae: 0.0742 - val_loss: 0.0271 - val_mse: 0.0271 - val_mae: 0.0656\n",
            "Epoch 35/50\n",
            "276/276 [==============================] - 1s 2ms/step - loss: 0.0278 - mse: 0.0278 - mae: 0.0745 - val_loss: 0.0269 - val_mse: 0.0269 - val_mae: 0.0670\n",
            "Epoch 36/50\n",
            "276/276 [==============================] - 0s 2ms/step - loss: 0.0276 - mse: 0.0276 - mae: 0.0712 - val_loss: 0.0274 - val_mse: 0.0274 - val_mae: 0.0772\n",
            "Epoch 37/50\n",
            "276/276 [==============================] - 0s 2ms/step - loss: 0.0277 - mse: 0.0277 - mae: 0.0747 - val_loss: 0.0269 - val_mse: 0.0269 - val_mae: 0.0709\n",
            "Epoch 38/50\n",
            "276/276 [==============================] - 0s 2ms/step - loss: 0.0278 - mse: 0.0278 - mae: 0.0734 - val_loss: 0.0270 - val_mse: 0.0270 - val_mae: 0.0669\n",
            "Epoch 39/50\n",
            "276/276 [==============================] - 0s 2ms/step - loss: 0.0275 - mse: 0.0275 - mae: 0.0724 - val_loss: 0.0268 - val_mse: 0.0268 - val_mae: 0.0660\n",
            "Epoch 40/50\n",
            "276/276 [==============================] - 0s 2ms/step - loss: 0.0272 - mse: 0.0272 - mae: 0.0734 - val_loss: 0.0268 - val_mse: 0.0268 - val_mae: 0.0667\n",
            "Epoch 41/50\n",
            "276/276 [==============================] - 0s 2ms/step - loss: 0.0270 - mse: 0.0270 - mae: 0.0704 - val_loss: 0.0269 - val_mse: 0.0269 - val_mae: 0.0699\n",
            "Epoch 42/50\n",
            "276/276 [==============================] - 0s 2ms/step - loss: 0.0274 - mse: 0.0274 - mae: 0.0752 - val_loss: 0.0278 - val_mse: 0.0278 - val_mae: 0.0622\n",
            "Epoch 43/50\n",
            "276/276 [==============================] - 0s 2ms/step - loss: 0.0271 - mse: 0.0271 - mae: 0.0706 - val_loss: 0.0269 - val_mse: 0.0269 - val_mae: 0.0695\n",
            "Epoch 44/50\n",
            "276/276 [==============================] - 0s 2ms/step - loss: 0.0271 - mse: 0.0271 - mae: 0.0736 - val_loss: 0.0275 - val_mse: 0.0275 - val_mae: 0.0762\n",
            "Epoch 45/50\n",
            "276/276 [==============================] - 0s 2ms/step - loss: 0.0268 - mse: 0.0268 - mae: 0.0694 - val_loss: 0.0268 - val_mse: 0.0268 - val_mae: 0.0643\n",
            "Epoch 46/50\n",
            "276/276 [==============================] - 0s 2ms/step - loss: 0.0269 - mse: 0.0269 - mae: 0.0705 - val_loss: 0.0268 - val_mse: 0.0268 - val_mae: 0.0676\n",
            "Epoch 47/50\n",
            "276/276 [==============================] - 0s 2ms/step - loss: 0.0267 - mse: 0.0267 - mae: 0.0696 - val_loss: 0.0272 - val_mse: 0.0272 - val_mae: 0.0741\n",
            "Epoch 48/50\n",
            "276/276 [==============================] - 0s 2ms/step - loss: 0.0271 - mse: 0.0271 - mae: 0.0732 - val_loss: 0.0284 - val_mse: 0.0284 - val_mae: 0.0603\n",
            "Epoch 49/50\n",
            "276/276 [==============================] - 0s 2ms/step - loss: 0.0265 - mse: 0.0265 - mae: 0.0672 - val_loss: 0.0269 - val_mse: 0.0269 - val_mae: 0.0700\n",
            "Epoch 50/50\n",
            "276/276 [==============================] - 0s 2ms/step - loss: 0.0267 - mse: 0.0267 - mae: 0.0713 - val_loss: 0.0281 - val_mse: 0.0281 - val_mae: 0.0906\n"
          ],
          "name": "stdout"
        }
      ]
    },
    {
      "cell_type": "markdown",
      "metadata": {
        "id": "4Xc4AFy4SoKL",
        "colab_type": "text"
      },
      "source": [
        "### Visualización de accuracy"
      ]
    },
    {
      "cell_type": "code",
      "metadata": {
        "id": "QBFAJMEX6rNl",
        "colab_type": "code",
        "colab": {
          "base_uri": "https://localhost:8080/",
          "height": 489
        },
        "outputId": "6ac4bb2c-3a02-437a-c893-b6a8cc014cf9"
      },
      "source": [
        "print(history.history.keys())\n",
        "# \"Loss\"\n",
        "\n",
        "plt.plot(history.history['loss'],  markersize=12)\n",
        "plt.plot(history.history['val_loss'], markersize=11)\n",
        "plt.title('Model loss')\n",
        "plt.ylabel('loss')\n",
        "plt.xlabel('epoch')\n",
        "plt.style.use('default')\n",
        "plt.legend(['train', 'validation'], loc='upper left')\n",
        "plt.savefig(\"Modelo\")\n",
        "plt.show()"
      ],
      "execution_count": 98,
      "outputs": [
        {
          "output_type": "stream",
          "text": [
            "dict_keys(['loss', 'mse', 'mae', 'val_loss', 'val_mse', 'val_mae'])\n"
          ],
          "name": "stdout"
        },
        {
          "output_type": "display_data",
          "data": {
            "image/png": "[encoded data removed]",
            "text/plain": [
              "<Figure size 640x480 with 1 Axes>"
            ]
          },
          "metadata": {
            "tags": []
          }
        }
      ]
    },
    {
      "cell_type": "markdown",
      "metadata": {
        "id": "uImcdq7BNoAI",
        "colab_type": "text"
      },
      "source": [
        "##MODELOS PARA SVM"
      ]
    },
    {
      "cell_type": "markdown",
      "metadata": {
        "id": "uBYnJEqdS12l",
        "colab_type": "text"
      },
      "source": [
        "### SVM Polinomial"
      ]
    },
    {
      "cell_type": "code",
      "metadata": {
        "id": "YU6gRLWsDMXZ",
        "colab_type": "code",
        "colab": {
          "base_uri": "https://localhost:8080/",
          "height": 661
        },
        "outputId": "c3c55cca-8f85-4fa5-9888-271aef7f4bdf"
      },
      "source": [
        "from sklearn.svm import SVC\n",
        "#funcion para C\n",
        "Cpoly=[0.1,100,500,10000]\n",
        "\n",
        "\n",
        "def VSMPoly (Cpoly):\n",
        "    contador= 0\n",
        "    POLY=[]\n",
        "    for c in Cpoly: \n",
        "        contador=contador+1;\n",
        "        print(\"Se ejecuta el entrenamiento numero \",contador)\n",
        "        classifier = SVC(gamma='auto', kernel='poly', C=c, random_state = 0, verbose=True)\n",
        "        classifier.fit(X_train,y_train)\n",
        "        #Predicciones del conjunto de Test\n",
        "        y_pred = classifier.predict(X_test)\n",
        "        model_acc = classifier.score(X_test, y_test)\n",
        "        test_acc_svm = accuracy_score(y_test, y_pred) #accuracy_score hace lo mismo que la función score \n",
        "        acc_svm=str(round(test_acc_svm, 4))\n",
        "        print('\\nSVM Accuracy con classifier.score: ', str(round(model_acc, 4)))\n",
        "        print('\\nSVM Accuracy con accuracy_score: ', acc_svm)\n",
        "        from sklearn.metrics import zero_one_loss\n",
        "        error_rate_svm = zero_one_loss(y_test,y_pred)\n",
        "        error_rate_svm=str(round(error_rate_svm, 4))\n",
        "        print(\"Error rate (%): \",error_rate_svm)\n",
        "        POLY.append([c,float(acc_svm),float(error_rate_svm)])\n",
        "        \n",
        "    return POLY\n",
        "\n",
        "\n",
        "ResultadoPoly=VSMPoly(Cpoly);\n",
        "it=0;\n",
        "vec=[]\n",
        "vecRes=[]\n",
        "for i in ResultadoPoly:\n",
        "    print(i)\n",
        "    vec.append(ResultadoPoly[it][1]);\n",
        "    it=it+1\n",
        "max= np.amax(vec)\n",
        "vecRes.append(max)\n"
      ],
      "execution_count": null,
      "outputs": [
        {
          "output_type": "stream",
          "text": [
            "Se ejecuta el entrenamiento numero  1\n",
            "[LibSVM]\n",
            "SVM Accuracy con classifier.score:  0.9749\n",
            "\n",
            "SVM Accuracy con accuracy_score:  0.9749\n",
            "Error rate (%):  0.0251\n",
            "Se ejecuta el entrenamiento numero  2\n",
            "[LibSVM]"
          ],
          "name": "stdout"
        },
        {
          "output_type": "stream",
          "text": [
            "/usr/local/lib/python3.6/dist-packages/sklearn/utils/validation.py:760: DataConversionWarning: A column-vector y was passed when a 1d array was expected. Please change the shape of y to (n_samples, ), for example using ravel().\n",
            "  y = column_or_1d(y, warn=True)\n",
            "/usr/local/lib/python3.6/dist-packages/sklearn/utils/validation.py:760: DataConversionWarning: A column-vector y was passed when a 1d array was expected. Please change the shape of y to (n_samples, ), for example using ravel().\n",
            "  y = column_or_1d(y, warn=True)\n"
          ],
          "name": "stderr"
        },
        {
          "output_type": "stream",
          "text": [
            "\n",
            "SVM Accuracy con classifier.score:  0.9749\n",
            "\n",
            "SVM Accuracy con accuracy_score:  0.9749\n",
            "Error rate (%):  0.0251\n",
            "Se ejecuta el entrenamiento numero  3\n",
            "[LibSVM]\n",
            "SVM Accuracy con classifier.score:  0.9749\n",
            "\n",
            "SVM Accuracy con accuracy_score:  0.9749\n",
            "Error rate (%):  0.0251\n",
            "Se ejecuta el entrenamiento numero  4\n",
            "[LibSVM]"
          ],
          "name": "stdout"
        },
        {
          "output_type": "stream",
          "text": [
            "/usr/local/lib/python3.6/dist-packages/sklearn/utils/validation.py:760: DataConversionWarning: A column-vector y was passed when a 1d array was expected. Please change the shape of y to (n_samples, ), for example using ravel().\n",
            "  y = column_or_1d(y, warn=True)\n",
            "/usr/local/lib/python3.6/dist-packages/sklearn/utils/validation.py:760: DataConversionWarning: A column-vector y was passed when a 1d array was expected. Please change the shape of y to (n_samples, ), for example using ravel().\n",
            "  y = column_or_1d(y, warn=True)\n"
          ],
          "name": "stderr"
        },
        {
          "output_type": "stream",
          "text": [
            "\n",
            "SVM Accuracy con classifier.score:  0.9739\n",
            "\n",
            "SVM Accuracy con accuracy_score:  0.9739\n",
            "Error rate (%):  0.0261\n",
            "[0.1, 0.9749, 0.0251]\n",
            "[100, 0.9749, 0.0251]\n",
            "[500, 0.9749, 0.0251]\n",
            "[10000, 0.9739, 0.0261]\n"
          ],
          "name": "stdout"
        }
      ]
    },
    {
      "cell_type": "markdown",
      "metadata": {
        "id": "Ss7rWGAiTHwp",
        "colab_type": "text"
      },
      "source": [
        "### SVM Lineal"
      ]
    },
    {
      "cell_type": "code",
      "metadata": {
        "id": "dy4Y4EiXHyMO",
        "colab_type": "code",
        "colab": {
          "base_uri": "https://localhost:8080/",
          "height": 661
        },
        "outputId": "2c10edea-4d8c-4306-a72a-f53cc535a9c1"
      },
      "source": [
        "CLinear=[0.1,100,500,10000]\n",
        "\n",
        "\n",
        "def VSMLinear (CLinear):\n",
        "    contador= 0\n",
        "    POLY=[]\n",
        "    for c in CLinear: \n",
        "        contador=contador+1;\n",
        "        print(\"Se ejecuta el entrenamiento numero \",contador)\n",
        "        classifier = SVC(gamma='auto', kernel='linear',C=c, verbose=True)\n",
        "        classifier.fit(X_train,y_train)\n",
        "        #Predicciones del conjunto de Test\n",
        "        y_pred = classifier.predict(X_test)\n",
        "        model_acc = classifier.score(X_test, y_test)\n",
        "        test_acc_svm = accuracy_score(y_test, y_pred) #accuracy_score hace lo mismo que la función score \n",
        "        acc_svm=str(round(test_acc_svm, 4))\n",
        "        print('\\nSVM Accuracy con classifier.score: ', str(round(model_acc, 4)))\n",
        "        print('\\nSVM Accuracy con accuracy_score: ', acc_svm)\n",
        "        from sklearn.metrics import zero_one_loss\n",
        "        error_rate_svm = zero_one_loss(y_test,y_pred)\n",
        "        error_rate_svm=str(round(error_rate_svm, 4))\n",
        "        print(\"Error rate (%): \",error_rate_svm)\n",
        "        POLY.append([c,float(acc_svm),float(error_rate_svm)])\n",
        "        \n",
        "    return POLY\n",
        "\n",
        "ResultadoLinear=VSMLinear(CLinear);\n",
        "it=0;\n",
        "vec=[]\n",
        "for i in ResultadoLinear:\n",
        "    print(i)\n",
        "    vec.append(ResultadoLinear[it][1]);\n",
        "    it=it+1\n",
        "max= np.amax(vec)\n",
        "vecRes.append(max)"
      ],
      "execution_count": null,
      "outputs": [
        {
          "output_type": "stream",
          "text": [
            "Se ejecuta el entrenamiento numero  1\n",
            "[LibSVM]\n",
            "SVM Accuracy con classifier.score:  0.9749\n",
            "\n",
            "SVM Accuracy con accuracy_score:  0.9749\n",
            "Error rate (%):  0.0251\n",
            "Se ejecuta el entrenamiento numero  2\n",
            "[LibSVM]"
          ],
          "name": "stdout"
        },
        {
          "output_type": "stream",
          "text": [
            "/usr/local/lib/python3.6/dist-packages/sklearn/utils/validation.py:760: DataConversionWarning: A column-vector y was passed when a 1d array was expected. Please change the shape of y to (n_samples, ), for example using ravel().\n",
            "  y = column_or_1d(y, warn=True)\n",
            "/usr/local/lib/python3.6/dist-packages/sklearn/utils/validation.py:760: DataConversionWarning: A column-vector y was passed when a 1d array was expected. Please change the shape of y to (n_samples, ), for example using ravel().\n",
            "  y = column_or_1d(y, warn=True)\n"
          ],
          "name": "stderr"
        },
        {
          "output_type": "stream",
          "text": [
            "\n",
            "SVM Accuracy con classifier.score:  0.976\n",
            "\n",
            "SVM Accuracy con accuracy_score:  0.976\n",
            "Error rate (%):  0.024\n",
            "Se ejecuta el entrenamiento numero  3\n",
            "[LibSVM]"
          ],
          "name": "stdout"
        },
        {
          "output_type": "stream",
          "text": [
            "/usr/local/lib/python3.6/dist-packages/sklearn/utils/validation.py:760: DataConversionWarning: A column-vector y was passed when a 1d array was expected. Please change the shape of y to (n_samples, ), for example using ravel().\n",
            "  y = column_or_1d(y, warn=True)\n"
          ],
          "name": "stderr"
        },
        {
          "output_type": "stream",
          "text": [
            "\n",
            "SVM Accuracy con classifier.score:  0.976\n",
            "\n",
            "SVM Accuracy con accuracy_score:  0.976\n",
            "Error rate (%):  0.024\n",
            "Se ejecuta el entrenamiento numero  4\n",
            "[LibSVM]"
          ],
          "name": "stdout"
        },
        {
          "output_type": "stream",
          "text": [
            "/usr/local/lib/python3.6/dist-packages/sklearn/utils/validation.py:760: DataConversionWarning: A column-vector y was passed when a 1d array was expected. Please change the shape of y to (n_samples, ), for example using ravel().\n",
            "  y = column_or_1d(y, warn=True)\n"
          ],
          "name": "stderr"
        },
        {
          "output_type": "stream",
          "text": [
            "\n",
            "SVM Accuracy con classifier.score:  0.976\n",
            "\n",
            "SVM Accuracy con accuracy_score:  0.976\n",
            "Error rate (%):  0.024\n",
            "[0.1, 0.9749, 0.0251]\n",
            "[100, 0.976, 0.024]\n",
            "[500, 0.976, 0.024]\n",
            "[10000, 0.976, 0.024]\n"
          ],
          "name": "stdout"
        }
      ]
    },
    {
      "cell_type": "markdown",
      "metadata": {
        "id": "i-0-NPxOTK5X",
        "colab_type": "text"
      },
      "source": [
        "### SVM Sigmoide"
      ]
    },
    {
      "cell_type": "code",
      "metadata": {
        "id": "C0mEKq-DIHle",
        "colab_type": "code",
        "colab": {
          "base_uri": "https://localhost:8080/",
          "height": 696
        },
        "outputId": "d840c4df-2df4-4a55-8bd3-de7b72b05c7b"
      },
      "source": [
        "Csigmoid=[0.1,100,500,10000]\n",
        "\n",
        "\n",
        "def VSMsigmoid (Csigmoid):\n",
        "    contador= 0\n",
        "    POLY=[]\n",
        "    for c in Csigmoid: \n",
        "        contador=contador+1;\n",
        "        print(\"Se ejecuta el entrenamiento numero \",contador)\n",
        "        classifier= SVC(gamma='auto', kernel='sigmoid',C=c, random_state = 0, verbose=True)\n",
        "        classifier.fit(X_train,y_train)\n",
        "        #Predicciones del conjunto de Test\n",
        "        y_pred = classifier.predict(X_test)\n",
        "        model_acc = classifier.score(X_test, y_test)\n",
        "        test_acc_svm = accuracy_score(y_test, y_pred) #accuracy_score hace lo mismo que la función score \n",
        "        acc_svm=str(round(test_acc_svm, 4))\n",
        "        print('\\nSVM Accuracy con classifier.score: ', str(round(model_acc, 4)))\n",
        "        print('\\nSVM Accuracy con accuracy_score: ', acc_svm)\n",
        "        from sklearn.metrics import zero_one_loss\n",
        "        error_rate_svm = zero_one_loss(y_test,y_pred)\n",
        "        error_rate_svm=str(round(error_rate_svm, 4))\n",
        "        print(\"Error rate (%): \",error_rate_svm)\n",
        "        POLY.append([c,float(acc_svm),float(error_rate_svm)])\n",
        "        \n",
        "    return POLY\n",
        "\n",
        "Resultadosigmoid=VSMsigmoid(Csigmoid);\n",
        "vec=[]\n",
        "it=0\n",
        "for i in Resultadosigmoid:\n",
        "    print(i)\n",
        "    vec.append(Resultadosigmoid[it][1]);\n",
        "    it=it+1\n",
        "max= np.amax(vec)\n",
        "vecRes.append(max)\n",
        "print('Vector con los mejores datos')\n",
        "vecRes"
      ],
      "execution_count": null,
      "outputs": [
        {
          "output_type": "stream",
          "text": [
            "Se ejecuta el entrenamiento numero  1\n",
            "[LibSVM]\n",
            "SVM Accuracy con classifier.score:  0.9749\n",
            "\n",
            "SVM Accuracy con accuracy_score:  0.9749\n",
            "Error rate (%):  0.0251\n",
            "Se ejecuta el entrenamiento numero  2\n",
            "[LibSVM]"
          ],
          "name": "stdout"
        },
        {
          "output_type": "stream",
          "text": [
            "/usr/local/lib/python3.6/dist-packages/sklearn/utils/validation.py:760: DataConversionWarning: A column-vector y was passed when a 1d array was expected. Please change the shape of y to (n_samples, ), for example using ravel().\n",
            "  y = column_or_1d(y, warn=True)\n",
            "/usr/local/lib/python3.6/dist-packages/sklearn/utils/validation.py:760: DataConversionWarning: A column-vector y was passed when a 1d array was expected. Please change the shape of y to (n_samples, ), for example using ravel().\n",
            "  y = column_or_1d(y, warn=True)\n"
          ],
          "name": "stderr"
        },
        {
          "output_type": "stream",
          "text": [
            "\n",
            "SVM Accuracy con classifier.score:  0.9749\n",
            "\n",
            "SVM Accuracy con accuracy_score:  0.9749\n",
            "Error rate (%):  0.0251\n",
            "Se ejecuta el entrenamiento numero  3\n",
            "[LibSVM]"
          ],
          "name": "stdout"
        },
        {
          "output_type": "stream",
          "text": [
            "/usr/local/lib/python3.6/dist-packages/sklearn/utils/validation.py:760: DataConversionWarning: A column-vector y was passed when a 1d array was expected. Please change the shape of y to (n_samples, ), for example using ravel().\n",
            "  y = column_or_1d(y, warn=True)\n"
          ],
          "name": "stderr"
        },
        {
          "output_type": "stream",
          "text": [
            "\n",
            "SVM Accuracy con classifier.score:  0.9749\n",
            "\n",
            "SVM Accuracy con accuracy_score:  0.9749\n",
            "Error rate (%):  0.0251\n",
            "Se ejecuta el entrenamiento numero  4\n",
            "[LibSVM]"
          ],
          "name": "stdout"
        },
        {
          "output_type": "stream",
          "text": [
            "/usr/local/lib/python3.6/dist-packages/sklearn/utils/validation.py:760: DataConversionWarning: A column-vector y was passed when a 1d array was expected. Please change the shape of y to (n_samples, ), for example using ravel().\n",
            "  y = column_or_1d(y, warn=True)\n"
          ],
          "name": "stderr"
        },
        {
          "output_type": "stream",
          "text": [
            "\n",
            "SVM Accuracy con classifier.score:  0.9575\n",
            "\n",
            "SVM Accuracy con accuracy_score:  0.9575\n",
            "Error rate (%):  0.0425\n",
            "[0.1, 0.9749, 0.0251]\n",
            "[100, 0.9749, 0.0251]\n",
            "[500, 0.9749, 0.0251]\n",
            "[10000, 0.9575, 0.0425]\n",
            "Vector con los mejores datos\n"
          ],
          "name": "stdout"
        },
        {
          "output_type": "execute_result",
          "data": {
            "text/plain": [
              "[0.9749, 0.976, 0.9749]"
            ]
          },
          "metadata": {
            "tags": []
          },
          "execution_count": 119
        }
      ]
    },
    {
      "cell_type": "code",
      "metadata": {
        "id": "6zk2hNQ4I6xv",
        "colab_type": "code",
        "colab": {}
      },
      "source": [
        "import pandas as pd\n",
        "Tipo = [\"SVMPOLY\"] * 4+[\"SVMLINEAR\"] * 4+[\"SVMSIGMOID\"] * 4 \n",
        "Regulacion = ResultadoPoly[0][0],ResultadoPoly[1][0],ResultadoPoly[2][0],ResultadoPoly[3][0],ResultadoLinear[0][0],ResultadoLinear[1][0],ResultadoLinear[2][0],ResultadoLinear[3][0],Resultadosigmoid[0][0],Resultadosigmoid[1][0],Resultadosigmoid[2][0],Resultadosigmoid[3][0],\n",
        "accuracy = ResultadoPoly[0][1],ResultadoPoly[1][1],ResultadoPoly[2][1],ResultadoPoly[3][1],ResultadoLinear[0][1],ResultadoLinear[1][1],ResultadoLinear[2][1],ResultadoLinear[3][1],Resultadosigmoid[0][1],Resultadosigmoid[1][1],Resultadosigmoid[2][1],Resultadosigmoid[3][1],\n",
        "TasaError = ResultadoPoly[0][2],ResultadoPoly[1][2],ResultadoPoly[2][2],ResultadoPoly[3][2],ResultadoLinear[0][2],ResultadoLinear[1][2],ResultadoLinear[2][2],ResultadoLinear[3][2],Resultadosigmoid[0][2],Resultadosigmoid[1][2],Resultadosigmoid[2][2],Resultadosigmoid[3][2],\n",
        "df = pd.DataFrame({\"Tipo\": Tipo, \"Regulacion\": Regulacion, \"accuracy\": accuracy, \"TasaError\":TasaError})"
      ],
      "execution_count": null,
      "outputs": []
    },
    {
      "cell_type": "code",
      "metadata": {
        "id": "0czB9B6iJNmg",
        "colab_type": "code",
        "colab": {}
      },
      "source": [
        "df.head(12)\n",
        "df.to_csv('dataframe.csv',sep=';')"
      ],
      "execution_count": null,
      "outputs": []
    },
    {
      "cell_type": "markdown",
      "metadata": {
        "id": "GU57TqqtNwHg",
        "colab_type": "text"
      },
      "source": [
        "### RESULTADOS MODELOS SVM"
      ]
    },
    {
      "cell_type": "code",
      "metadata": {
        "id": "bHLZNyolK9L4",
        "colab_type": "code",
        "colab": {
          "base_uri": "https://localhost:8080/",
          "height": 417
        },
        "outputId": "9d41ca00-b0f4-4671-9dc7-9f39db30d184"
      },
      "source": [
        "import pandas as pd\n",
        "import numpy as np\n",
        "import matplotlib.pyplot as plt\n",
        "from scipy.interpolate import make_interp_spline, BSpline \n",
        "dirResultados=\"/content/dataframe.csv\"\n",
        "dataResultados=pd.read_csv(dirResultados,sep=';')\n",
        "dataResultados.head(12)\n",
        "#print (dataResultados.dtypes)"
      ],
      "execution_count": null,
      "outputs": [
        {
          "output_type": "execute_result",
          "data": {
            "text/html": [
              "<div>\n",
              "<style scoped>\n",
              "    .dataframe tbody tr th:only-of-type {\n",
              "        vertical-align: middle;\n",
              "    }\n",
              "\n",
              "    .dataframe tbody tr th {\n",
              "        vertical-align: top;\n",
              "    }\n",
              "\n",
              "    .dataframe thead th {\n",
              "        text-align: right;\n",
              "    }\n",
              "</style>\n",
              "<table border=\"1\" class=\"dataframe\">\n",
              "  <thead>\n",
              "    <tr style=\"text-align: right;\">\n",
              "      <th></th>\n",
              "      <th>Unnamed: 0</th>\n",
              "      <th>Tipo</th>\n",
              "      <th>Regulacion</th>\n",
              "      <th>accuracy</th>\n",
              "      <th>TasaError</th>\n",
              "    </tr>\n",
              "  </thead>\n",
              "  <tbody>\n",
              "    <tr>\n",
              "      <th>0</th>\n",
              "      <td>0</td>\n",
              "      <td>SVMPOLY</td>\n",
              "      <td>0.1</td>\n",
              "      <td>0.9749</td>\n",
              "      <td>0.0251</td>\n",
              "    </tr>\n",
              "    <tr>\n",
              "      <th>1</th>\n",
              "      <td>1</td>\n",
              "      <td>SVMPOLY</td>\n",
              "      <td>100.0</td>\n",
              "      <td>0.9749</td>\n",
              "      <td>0.0251</td>\n",
              "    </tr>\n",
              "    <tr>\n",
              "      <th>2</th>\n",
              "      <td>2</td>\n",
              "      <td>SVMPOLY</td>\n",
              "      <td>500.0</td>\n",
              "      <td>0.9749</td>\n",
              "      <td>0.0251</td>\n",
              "    </tr>\n",
              "    <tr>\n",
              "      <th>3</th>\n",
              "      <td>3</td>\n",
              "      <td>SVMPOLY</td>\n",
              "      <td>10000.0</td>\n",
              "      <td>0.9739</td>\n",
              "      <td>0.0261</td>\n",
              "    </tr>\n",
              "    <tr>\n",
              "      <th>4</th>\n",
              "      <td>4</td>\n",
              "      <td>SVMLINEAR</td>\n",
              "      <td>0.1</td>\n",
              "      <td>0.9749</td>\n",
              "      <td>0.0251</td>\n",
              "    </tr>\n",
              "    <tr>\n",
              "      <th>5</th>\n",
              "      <td>5</td>\n",
              "      <td>SVMLINEAR</td>\n",
              "      <td>100.0</td>\n",
              "      <td>0.9760</td>\n",
              "      <td>0.0240</td>\n",
              "    </tr>\n",
              "    <tr>\n",
              "      <th>6</th>\n",
              "      <td>6</td>\n",
              "      <td>SVMLINEAR</td>\n",
              "      <td>500.0</td>\n",
              "      <td>0.9760</td>\n",
              "      <td>0.0240</td>\n",
              "    </tr>\n",
              "    <tr>\n",
              "      <th>7</th>\n",
              "      <td>7</td>\n",
              "      <td>SVMLINEAR</td>\n",
              "      <td>10000.0</td>\n",
              "      <td>0.9760</td>\n",
              "      <td>0.0240</td>\n",
              "    </tr>\n",
              "    <tr>\n",
              "      <th>8</th>\n",
              "      <td>8</td>\n",
              "      <td>SVMSIGMOID</td>\n",
              "      <td>0.1</td>\n",
              "      <td>0.9749</td>\n",
              "      <td>0.0251</td>\n",
              "    </tr>\n",
              "    <tr>\n",
              "      <th>9</th>\n",
              "      <td>9</td>\n",
              "      <td>SVMSIGMOID</td>\n",
              "      <td>100.0</td>\n",
              "      <td>0.9749</td>\n",
              "      <td>0.0251</td>\n",
              "    </tr>\n",
              "    <tr>\n",
              "      <th>10</th>\n",
              "      <td>10</td>\n",
              "      <td>SVMSIGMOID</td>\n",
              "      <td>500.0</td>\n",
              "      <td>0.9749</td>\n",
              "      <td>0.0251</td>\n",
              "    </tr>\n",
              "    <tr>\n",
              "      <th>11</th>\n",
              "      <td>11</td>\n",
              "      <td>SVMSIGMOID</td>\n",
              "      <td>10000.0</td>\n",
              "      <td>0.9575</td>\n",
              "      <td>0.0425</td>\n",
              "    </tr>\n",
              "  </tbody>\n",
              "</table>\n",
              "</div>"
            ],
            "text/plain": [
              "    Unnamed: 0        Tipo  Regulacion  accuracy  TasaError\n",
              "0            0     SVMPOLY         0.1    0.9749     0.0251\n",
              "1            1     SVMPOLY       100.0    0.9749     0.0251\n",
              "2            2     SVMPOLY       500.0    0.9749     0.0251\n",
              "3            3     SVMPOLY     10000.0    0.9739     0.0261\n",
              "4            4   SVMLINEAR         0.1    0.9749     0.0251\n",
              "5            5   SVMLINEAR       100.0    0.9760     0.0240\n",
              "6            6   SVMLINEAR       500.0    0.9760     0.0240\n",
              "7            7   SVMLINEAR     10000.0    0.9760     0.0240\n",
              "8            8  SVMSIGMOID         0.1    0.9749     0.0251\n",
              "9            9  SVMSIGMOID       100.0    0.9749     0.0251\n",
              "10          10  SVMSIGMOID       500.0    0.9749     0.0251\n",
              "11          11  SVMSIGMOID     10000.0    0.9575     0.0425"
            ]
          },
          "metadata": {
            "tags": []
          },
          "execution_count": 46
        }
      ]
    },
    {
      "cell_type": "code",
      "metadata": {
        "id": "QzG1hEZx5qpc",
        "colab_type": "code",
        "colab": {
          "base_uri": "https://localhost:8080/",
          "height": 260
        },
        "outputId": "db010648-f18e-4b6f-b52b-480c456dcc35"
      },
      "source": [
        "ResultadosPorTecnica=dataResultados.groupby(['Tipo','Regulacion']).mean()\n",
        "print(ResultadosPorTecnica)\n",
        "ResultadosPorTecnica=ResultadosPorTecnica.groupby(['Tipo'])"
      ],
      "execution_count": null,
      "outputs": [
        {
          "output_type": "stream",
          "text": [
            "                       Unnamed: 0  accuracy  TasaError\n",
            "Tipo       Regulacion                                 \n",
            "SVMLINEAR  0.1                  4    0.9749     0.0251\n",
            "           100.0                5    0.9760     0.0240\n",
            "           500.0                6    0.9760     0.0240\n",
            "           10000.0              7    0.9760     0.0240\n",
            "SVMPOLY    0.1                  0    0.9749     0.0251\n",
            "           100.0                1    0.9749     0.0251\n",
            "           500.0                2    0.9749     0.0251\n",
            "           10000.0              3    0.9739     0.0261\n",
            "SVMSIGMOID 0.1                  8    0.9749     0.0251\n",
            "           100.0                9    0.9749     0.0251\n",
            "           500.0               10    0.9749     0.0251\n",
            "           10000.0             11    0.9575     0.0425\n"
          ],
          "name": "stdout"
        }
      ]
    },
    {
      "cell_type": "code",
      "metadata": {
        "id": "EmbEmeSm5VZb",
        "colab_type": "code",
        "colab": {
          "base_uri": "https://localhost:8080/",
          "height": 52
        },
        "outputId": "d184b8ac-8cec-448a-9158-dd59f6325a0e"
      },
      "source": [
        "\n",
        "print('Mejores Resultados SMV \\n',vecRes)\n",
        "\n"
      ],
      "execution_count": null,
      "outputs": [
        {
          "output_type": "stream",
          "text": [
            "Mejores Resultados SMV \n",
            " [0.9749, 0.976, 0.9749]\n"
          ],
          "name": "stdout"
        }
      ]
    },
    {
      "cell_type": "code",
      "metadata": {
        "id": "dM75AZiZ_gKt",
        "colab_type": "code",
        "colab": {}
      },
      "source": [
        ""
      ],
      "execution_count": 51,
      "outputs": []
    }
  ]
}